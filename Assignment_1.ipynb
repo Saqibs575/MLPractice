{
 "cells": [
  {
   "cell_type": "markdown",
   "id": "6d59baeb-5721-4a87-bf87-ab1ce2ad94ee",
   "metadata": {},
   "source": [
    "***Q.1)*** What does one mean by the term \"Machine Learning\"?"
   ]
  },
  {
   "cell_type": "markdown",
   "id": "4af27382-7aed-456a-b88c-4c26bf18173b",
   "metadata": {},
   "source": [
    "***ANS :*** Machine Learning is a part of Artifiacial Intelligence (AI) that uses computer algrithms or a software to analyze data and make intelligent decision based on what it is learned from the data provided to it without being explicitly programmed.<BR>\n",
    "Machine learning Algorithms are trained with large sets of data and they learn from examples.\n",
    "<BR>Machine Learning do not follow rule-based algorithms.\n",
    "<BR>Machine Learning enables machines to solve problems on their own and make predictions using provided data."
   ]
  },
  {
   "cell_type": "markdown",
   "id": "d86f9f40-c0c7-4bec-808e-83b5d24ddb0c",
   "metadata": {},
   "source": [
    "***Q.2)*** Can you think of 4 distinct types of problems where Machine Learning shines?"
   ]
  },
  {
   "cell_type": "markdown",
   "id": "57717924-cf92-47e5-8ccf-e5a9b9635ed9",
   "metadata": {},
   "source": [
    "***ANS :*** Four Different types of Machine Learning use cases are given below ;\n",
    "\n",
    "1.) Classification : Classification comes uder the supervised Machine Learning that is in this we use labelled data set to predict output. It is use in the cases where target variable is categorical. Logistic Regression is an example of Classification.\n",
    "\n",
    "2.) Regression : Regresssion is also a part of Supervised Machine Learning. It is used when the target variable is real or continuous value. Linear , Ridge and Lasso regression are the examples of regression.\n",
    "\n",
    "3.) Clustering : Clustering is the technique of dividing the objects into the groups that are similar between them and different from the objects belonging to different clusters(geroups). It comes under Unsupervised Machine Learning.\n",
    "\n",
    "4.) Association : Association is a rule-based Unsupervised Machine Learning algorithms to discover the probability of co-occurence of items in a collection. It can also be called as Recommendition System."
   ]
  },
  {
   "cell_type": "markdown",
   "id": "e1658438-ae5d-4af0-bf30-547ccbfef244",
   "metadata": {},
   "source": [
    "***Q3.)*** What is a labelled training set , and how does it works ?"
   ]
  },
  {
   "cell_type": "markdown",
   "id": "8ac12ef9-e2a0-4dd3-b0fb-24f30bc47875",
   "metadata": {},
   "source": [
    "***ANS :*** A labelled training set is a data set in which for each set of input we have corresponding output, the output may also be called as target variabel and set of input features are called as input vector as it can be single or multiple. It comes under supervised Machine Learning.\n",
    "A regression and classification are the examples of Supervised Machine Learning. Based on whether the target variable is continuous or repeated we can used the appropriate one."
   ]
  },
  {
   "cell_type": "markdown",
   "id": "36affc08-b986-43fc-bc35-e0d157013532",
   "metadata": {},
   "source": [
    "***Q.4)*** What are the two most important task that are supervised ?"
   ]
  },
  {
   "cell_type": "markdown",
   "id": "bb9ea2c8-5127-4385-b91f-7cfce520c6e2",
   "metadata": {},
   "source": [
    "***ANS :*** The following two most important task for supervised machine learning are ;\n",
    "\n",
    "1.) Classification : Classification comes uder the supervised Machine Learning that is in this we use labelled data set to predict output. It is use in the cases where target variable is categorical. Logistic Regression is an example of Classification.\n",
    "\n",
    "2.) Regression : Regresssion is also a part of Supervised Machine Learning. It is used when the target variable is real or continuous value. Linear , Ridge and Lasso regression are the examples of regression."
   ]
  },
  {
   "cell_type": "markdown",
   "id": "8482aab9-a36a-4c08-9084-436ad4c832f1",
   "metadata": {},
   "source": [
    "***Q.5)*** Can you think of unsupervised task ?"
   ]
  },
  {
   "cell_type": "markdown",
   "id": "0dc6c178-d2b4-4534-808b-1d3fa5d3bcae",
   "metadata": {},
   "source": [
    "***ANS :*** The following four examples of unsupervised Machine Learning ;\n",
    "\n",
    "1.) Recommendation system. <BR>\n",
    "2.) Market Basket Analysis.<BR>\n",
    "3.) Data Preparation or Random Data Generator.<BR>\n",
    "4.) Identifying Accident Prone Area.<BR>"
   ]
  },
  {
   "cell_type": "markdown",
   "id": "3fce99fa-c168-4e7c-9fb6-683b984dbae7",
   "metadata": {},
   "source": [
    "***Q.6)*** .State the machine learning model that would be best to make a robot walk through various unfamiliar terrains?\n"
   ]
  },
  {
   "cell_type": "markdown",
   "id": "a70ee977-2592-4f8c-bfc1-70f07b3c5ecb",
   "metadata": {},
   "source": [
    "***ANS :*** Reinforcement Learning"
   ]
  },
  {
   "cell_type": "markdown",
   "id": "f80d512d-e1c3-4199-aa56-5b190ff782ea",
   "metadata": {},
   "source": [
    "***Q.7)*** .Which algorithm will you use to divide your customers into different groups?\n"
   ]
  },
  {
   "cell_type": "markdown",
   "id": "aacc55d0-e018-430e-b695-544a966fa03e",
   "metadata": {},
   "source": [
    "***ANS :*** Clustering Algorithms can be used. One of the clustering algorithm is \"K-Means Clustering\""
   ]
  },
  {
   "cell_type": "markdown",
   "id": "285187e5-3d74-4650-8684-6d01ef4a9a09",
   "metadata": {},
   "source": [
    "***Q.8)*** Will you consider the problem of spam detection to be a supervised or unsupervised learning problem?"
   ]
  },
  {
   "cell_type": "markdown",
   "id": "dc00e25b-cd5e-48a6-a875-870991e7a728",
   "metadata": {},
   "source": [
    "***ANS :*** Supervised Machine Learning <BR>\n",
    "As in this case we have two category of outputs that is either \"Spam\" or \"Not Spam\". So , there are there two sets of outputs hence it is labelled data set."
   ]
  },
  {
   "cell_type": "markdown",
   "id": "cf30c539-e120-4395-9dfd-e0b7ee0cd941",
   "metadata": {},
   "source": [
    "***Q.9)*** What is the concept of an online learning system ?"
   ]
  },
  {
   "cell_type": "markdown",
   "id": "44e8c0ad-f696-4a97-af32-47cfb848c932",
   "metadata": {},
   "source": [
    "***ANS :*** Online Learning system is a system in which we use internet and software for teaching students who are physically may not be present. There are many online teaching tools that can be used.\n"
   ]
  },
  {
   "cell_type": "markdown",
   "id": "c9e28a6c-90b6-4f04-b0b6-add43fa12d54",
   "metadata": {},
   "source": [
    "***Q.10)*** What is out-of-core learning, and how does it differ from core learning?"
   ]
  },
  {
   "cell_type": "markdown",
   "id": "9addc5e0-bad4-4437-a98d-7fef4b97190e",
   "metadata": {},
   "source": [
    "***ANS :*** Out-of-core ML is the concept based on core memory. Out-of-core memory is nothing but the external memory. The question is why we use external memory? The answer is simple , as we are generating the data at our fingertip in every second. So, there are very large volume of data generated. Hence, it is very difficult to handle these data in our local system. Hence , we require some external memory. <BR>In simple word we can say that out-of-core ML is a way of training our Machine Learning models in external memory on the data that can not fit in our core memory.<BR>Out-of-core learning refers to the machine learning algorithms working with data that cannot fit into a single machine’s memory but can easily fit into some data storage, such as a local hard disk or web repository.<BR>Whereas core learning refers to the traditional method of creating the model in the memory where entire data set loaded before training the model. This method is useful when all training data set can fit comfortably into the memory and memory should handle the entire data set and machine learning algorithm."
   ]
  },
  {
   "cell_type": "markdown",
   "id": "15861a6a-4c5b-447a-8cfe-22eb9025f101",
   "metadata": {},
   "source": [
    "***Q.11)*** What kind of learning algorithm makes predictions using a similarity measure?"
   ]
  },
  {
   "cell_type": "markdown",
   "id": "b5582cd9-90b9-4a8b-867e-e70d31fc0e90",
   "metadata": {},
   "source": [
    "***ANS :*** The learning algorithm that makes predictions using a similarity measure is called a \"instance-based learning\" algorithm. Instead of explicitly learning a model or function from the training data, instance-based learning algorithms store the training instances in memory and use them to make predictions for new instances based on their similarity to the stored instances.<BR>The key idea behind instance-based learning is to leverage the notion of similarity or distance between instances. When a new instance needs to be predicted, the algorithm identifies the most similar instances from the training set and uses their labels or values to make predictions for the new instance.<BR>\n",
    "K-Nearest Neighbour (KNN) is one of the example of instance-based learning.In KNN , the algorithm stores all the training instances in memory and, when making predictions for a new instance, it identifies the k nearest neighbors based on a similarity measure."
   ]
  },
  {
   "cell_type": "markdown",
   "id": "36e569ac-0655-4e26-b382-8f87ab8bd893",
   "metadata": {},
   "source": [
    "***Q.12)*** What's the difference between a model parameter and a hyperparameter in a learning algorithm?\n"
   ]
  },
  {
   "cell_type": "markdown",
   "id": "a6a19a8b-8788-4f58-8d8b-826891075add",
   "metadata": {},
   "source": [
    "***ANS :*** Model parameters are the internal variables or coefficients that a learning algorithm estimates or learns from the training data. These parameters define the specific characteristics or properties of the learned model and are typically optimized during the training process. The values of model parameters are determined by the learning algorithm through a process called parameter estimation or model fitting. Examples of model parameters is coeficient in Linear Regression.<BR>\n",
    "Hyperparameters, on the other hand, are external configuration choices or settings that define the behavior and characteristics of the learning algorithm itself. Unlike model parameters, hyperparameters are not learned from the training data but are set prior to the learning process. Example of hyperparameter is Learning rate in linear regression for the optimization of the model.<BR>\n",
    "Model parameters are optimized during the training process to minimize a loss or objective function, while hyperparameters are selected or tuned to achieve the best performance of the learning algorithm."
   ]
  },
  {
   "cell_type": "markdown",
   "id": "33f75820-6bc6-4da5-a8d0-fcfe539e5732",
   "metadata": {},
   "source": [
    "***Q.13)*** What are the criteria that model-based learning algorithms look for? What is the most popular method they use to achieve success? What method do they use to make predictions?\n"
   ]
  },
  {
   "cell_type": "markdown",
   "id": "1db85347-19c6-4c97-9d5f-df6c7d7f858d",
   "metadata": {},
   "source": [
    "***ANS :*** Model-based learning algorithms search for the optimal value of parameters in a model that will give the best results for the new instances. They learn by minimizing a cost function that measures how bad the system is at making predictions on new data.\n",
    "\n",
    "The most popular method used by model-based learning algorithms to achieve success is Gradient Descent. Gradient Descent is an optimization algorithm that is used to minimize the cost function by iteratively adjusting the parameters of the model.\n",
    "\n",
    "To make predictions, model-based learning algorithms use the learned model to predict the output for new input data"
   ]
  },
  {
   "cell_type": "markdown",
   "id": "4d49a03a-6574-42e7-a484-08ccead96db2",
   "metadata": {},
   "source": [
    "***Q.14)*** Can you name four of the most important Machine Learning challenges?\n"
   ]
  },
  {
   "cell_type": "markdown",
   "id": "85c2e65d-26e9-409f-96e1-4bfd01c0c8d4",
   "metadata": {},
   "source": [
    "***ANS :*** There are several challeges on can face in Machine Learning, four of them are listed below ;\n",
    "\n",
    "1.) Irrelevent feature\n",
    "\n",
    "2.) Overfitting\n",
    "\n",
    "3.) Underfitting\n",
    "\n",
    "4.) Impropper Data"
   ]
  },
  {
   "cell_type": "markdown",
   "id": "f2f62bac-e3b4-4bba-9ee7-9b9d990b9a8c",
   "metadata": {},
   "source": [
    "***Q.15*** What happens if the model performs well on the training data but fails to generalize the results to new situations? Can you think of three different options?"
   ]
  },
  {
   "cell_type": "markdown",
   "id": "79f06121-4831-4ad4-b4fa-dedd81fe36b1",
   "metadata": {},
   "source": [
    "***ANS :*** This Situation is called overfitting in which model performs well on training data having less accuracy on new data assign to it.<BR>\n",
    "There are three solutions ;<BR>\n",
    "1.) L1 Regularization (Ridge)<BR>\n",
    "2.) L2 Regularization (Lasso)<BR>\n",
    "3.) ElasticNet "
   ]
  },
  {
   "cell_type": "markdown",
   "id": "f3916b3c-1d3a-43d8-adbe-304f57b4f926",
   "metadata": {},
   "source": [
    "***Q.16)*** What exactly is a test set, and why would you need one?\n"
   ]
  },
  {
   "cell_type": "markdown",
   "id": "62ad0f0b-c07e-4ceb-b4ff-276a4015c46f",
   "metadata": {},
   "source": [
    "***ANS :*** Out of all the given data set we store a small part of data that is may be around 20% or 30% as a test data. The puspose of test data is to check the accuracy of our model and to know our model is performing well or not."
   ]
  },
  {
   "cell_type": "markdown",
   "id": "968cbcb6-95d0-4fdc-9ae9-f80030dd2e8e",
   "metadata": {},
   "source": [
    "***Q.17)*** What is validation set's purpose ?"
   ]
  },
  {
   "cell_type": "markdown",
   "id": "1e2d3da9-4f64-45c5-af54-f0f8ecc97275",
   "metadata": {},
   "source": [
    "***ANS :*** A validation set is a set of data used to train Machine Learning (ML) with the goal of finding and optimizing the best model to solve a given problem. The validation set is used to fine-tune the hyperparameters of the model and is considered a part of the training of the model. The model only sees this data for evaluation but does not learn from this data, providing an objective unbiased evaluation of the model"
   ]
  },
  {
   "cell_type": "markdown",
   "id": "c7cc54ea-28db-4fa1-9143-6bc5fc6e1f03",
   "metadata": {},
   "source": [
    "***Q.18)*** What precisely is the train-dev kit, when will you need it, how do you put it to use?\n"
   ]
  },
  {
   "cell_type": "markdown",
   "id": "6b5a6ad3-1b72-489b-96d1-3c338cf261eb",
   "metadata": {},
   "source": [
    "***ANS :*** The train-dev kit is a subset of the training set that needed to set aside and use only to check if the model is overfitting or not. If the training set and dev sets have different distributions, it is good practice to introduce a train-dev set that has the same distribution as the training set. This train-dev set will be used to measure how much the model is overfitting1.\n",
    "\n",
    "\n",
    "The train-dev kit is used to measure how well the algorithm generalizes from the training set to a dev set, but it is not used as a test set. The test set is used only after our model completely finished choosing all our hyperparameters.\n",
    "\n",
    "\n",
    "To use the train-dev kit, we need to split the data into three sets: training set, dev set, and test set. The dev and test sets should come from the same distribution. The dev set is used for hyperparameter tuning and the test set is used for reporting final results"
   ]
  },
  {
   "cell_type": "markdown",
   "id": "c7b8fec3-e772-459e-b2b3-dafc01c82caa",
   "metadata": {},
   "source": [
    "***Q.19*** What could go wrong if you use the test set to tune hyperparameters?"
   ]
  },
  {
   "cell_type": "markdown",
   "id": "15a4943f-d10e-4a76-8a8b-8da95a20fff5",
   "metadata": {},
   "source": [
    "***ANS :*** If we do not have separate data set for hyperparameter tuning then we do not have any independent data set to evaluate our model. Then model may be overfitting on the test data. Hence , model will not perform well on the new and unseen data.\n",
    "\n",
    "The test set should only be use to test the model not for hyperparameter tuning other we may face overfitting."
   ]
  }
 ],
 "metadata": {
  "kernelspec": {
   "display_name": "Python 3 (ipykernel)",
   "language": "python",
   "name": "python3"
  },
  "language_info": {
   "codemirror_mode": {
    "name": "ipython",
    "version": 3
   },
   "file_extension": ".py",
   "mimetype": "text/x-python",
   "name": "python",
   "nbconvert_exporter": "python",
   "pygments_lexer": "ipython3",
   "version": "3.10.6"
  }
 },
 "nbformat": 4,
 "nbformat_minor": 5
}
